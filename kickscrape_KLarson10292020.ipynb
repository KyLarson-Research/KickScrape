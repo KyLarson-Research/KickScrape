{
 "cells": [
  {
   "cell_type": "code",
   "execution_count": 4,
   "metadata": {},
   "outputs": [
    {
     "data": {
      "text/html": [
       "<div>\n",
       "<style scoped>\n",
       "    .dataframe tbody tr th:only-of-type {\n",
       "        vertical-align: middle;\n",
       "    }\n",
       "\n",
       "    .dataframe tbody tr th {\n",
       "        vertical-align: top;\n",
       "    }\n",
       "\n",
       "    .dataframe thead tr th {\n",
       "        text-align: left;\n",
       "    }\n",
       "</style>\n",
       "<table border=\"1\" class=\"dataframe\">\n",
       "  <thead>\n",
       "    <tr>\n",
       "      <th></th>\n",
       "      <th>project id</th>\n",
       "      <th>name</th>\n",
       "      <th>url</th>\n",
       "      <th>category</th>\n",
       "      <th>subcategory</th>\n",
       "      <th>location</th>\n",
       "      <th>status</th>\n",
       "      <th>goal</th>\n",
       "      <th>pledged</th>\n",
       "      <th>funded percentage</th>\n",
       "      <th>backers</th>\n",
       "      <th>funded date</th>\n",
       "      <th>levels</th>\n",
       "      <th>reward levels</th>\n",
       "      <th>updates</th>\n",
       "      <th>comments</th>\n",
       "      <th>duration</th>\n",
       "    </tr>\n",
       "  </thead>\n",
       "  <tbody>\n",
       "    <tr>\n",
       "      <th>0</th>\n",
       "      <td>39409</td>\n",
       "      <td>WHILE THE TREES SLEEP</td>\n",
       "      <td>http://www.kickstarter.com/projects/emiliesaba...</td>\n",
       "      <td>Film &amp; Video</td>\n",
       "      <td>Short Film</td>\n",
       "      <td>Columbia, MO</td>\n",
       "      <td>successful</td>\n",
       "      <td>10500</td>\n",
       "      <td>11545</td>\n",
       "      <td>1.09952381</td>\n",
       "      <td>66</td>\n",
       "      <td>Fri, 19 Aug 2011 19:28:17 -0000</td>\n",
       "      <td>7</td>\n",
       "      <td>$25,$50,$100,$250,$500,$1,000,$2,500</td>\n",
       "      <td>10</td>\n",
       "      <td>2</td>\n",
       "      <td>30</td>\n",
       "    </tr>\n",
       "    <tr>\n",
       "      <th>1</th>\n",
       "      <td>126581</td>\n",
       "      <td>Educational Online Trading Card Game</td>\n",
       "      <td>http://www.kickstarter.com/projects/972789543/...</td>\n",
       "      <td>Games</td>\n",
       "      <td>Board &amp; Card Games</td>\n",
       "      <td>Maplewood, NJ</td>\n",
       "      <td>failed</td>\n",
       "      <td>4000</td>\n",
       "      <td>20</td>\n",
       "      <td>0.005</td>\n",
       "      <td>2</td>\n",
       "      <td>Mon, 02 Aug 2010 03:59:00 -0000</td>\n",
       "      <td>5</td>\n",
       "      <td>$1,$5,$10,$25,$50</td>\n",
       "      <td>6</td>\n",
       "      <td>0</td>\n",
       "      <td>47.18</td>\n",
       "    </tr>\n",
       "    <tr>\n",
       "      <th>2</th>\n",
       "      <td>138119</td>\n",
       "      <td>STRUM</td>\n",
       "      <td>http://www.kickstarter.com/projects/185476022/...</td>\n",
       "      <td>Film &amp; Video</td>\n",
       "      <td>Animation</td>\n",
       "      <td>Los Angeles, CA</td>\n",
       "      <td>live</td>\n",
       "      <td>20000</td>\n",
       "      <td>56</td>\n",
       "      <td>0.0028</td>\n",
       "      <td>3</td>\n",
       "      <td>Fri, 08 Jun 2012 00:00:31 -0000</td>\n",
       "      <td>10</td>\n",
       "      <td>$1,$10,$25,$40,$50,$100,$250,$1,000,$1,337,$9,001</td>\n",
       "      <td>1</td>\n",
       "      <td>0</td>\n",
       "      <td>28</td>\n",
       "    </tr>\n",
       "    <tr>\n",
       "      <th>3</th>\n",
       "      <td>237090</td>\n",
       "      <td>GETTING OVER - One son's search to finally kno...</td>\n",
       "      <td>http://www.kickstarter.com/projects/charnick/g...</td>\n",
       "      <td>Film &amp; Video</td>\n",
       "      <td>Documentary</td>\n",
       "      <td>Los Angeles, CA</td>\n",
       "      <td>successful</td>\n",
       "      <td>6000</td>\n",
       "      <td>6535</td>\n",
       "      <td>1.089166667</td>\n",
       "      <td>100</td>\n",
       "      <td>Sun, 08 Apr 2012 02:14:00 -0000</td>\n",
       "      <td>13</td>\n",
       "      <td>$1,$10,$25,$30,$50,$75,$85,$100,$110,$250,$500...</td>\n",
       "      <td>4</td>\n",
       "      <td>0</td>\n",
       "      <td>32.22</td>\n",
       "    </tr>\n",
       "    <tr>\n",
       "      <th>4</th>\n",
       "      <td>246101</td>\n",
       "      <td>The Launch of FlyeGrlRoyalty &amp;quot;The New Nam...</td>\n",
       "      <td>http://www.kickstarter.com/projects/flyegrlroy...</td>\n",
       "      <td>Fashion</td>\n",
       "      <td>Fashion</td>\n",
       "      <td>Novi, MI</td>\n",
       "      <td>failed</td>\n",
       "      <td>3500</td>\n",
       "      <td>0</td>\n",
       "      <td>0</td>\n",
       "      <td>0</td>\n",
       "      <td>Wed, 01 Jun 2011 15:25:39 -0000</td>\n",
       "      <td>6</td>\n",
       "      <td>$10,$25,$50,$100,$150,$250</td>\n",
       "      <td>2</td>\n",
       "      <td>0</td>\n",
       "      <td>30</td>\n",
       "    </tr>\n",
       "  </tbody>\n",
       "</table>\n",
       "</div>"
      ],
      "text/plain": [
       "  project id                                               name  \\\n",
       "0      39409                              WHILE THE TREES SLEEP   \n",
       "1     126581               Educational Online Trading Card Game   \n",
       "2     138119                                              STRUM   \n",
       "3     237090  GETTING OVER - One son's search to finally kno...   \n",
       "4     246101  The Launch of FlyeGrlRoyalty &quot;The New Nam...   \n",
       "\n",
       "                                                 url      category  \\\n",
       "0  http://www.kickstarter.com/projects/emiliesaba...  Film & Video   \n",
       "1  http://www.kickstarter.com/projects/972789543/...         Games   \n",
       "2  http://www.kickstarter.com/projects/185476022/...  Film & Video   \n",
       "3  http://www.kickstarter.com/projects/charnick/g...  Film & Video   \n",
       "4  http://www.kickstarter.com/projects/flyegrlroy...       Fashion   \n",
       "\n",
       "          subcategory         location      status   goal pledged  \\\n",
       "0          Short Film     Columbia, MO  successful  10500   11545   \n",
       "1  Board & Card Games    Maplewood, NJ      failed   4000      20   \n",
       "2           Animation  Los Angeles, CA        live  20000      56   \n",
       "3         Documentary  Los Angeles, CA  successful   6000    6535   \n",
       "4             Fashion         Novi, MI      failed   3500       0   \n",
       "\n",
       "  funded percentage backers                      funded date levels  \\\n",
       "0        1.09952381      66  Fri, 19 Aug 2011 19:28:17 -0000      7   \n",
       "1             0.005       2  Mon, 02 Aug 2010 03:59:00 -0000      5   \n",
       "2            0.0028       3  Fri, 08 Jun 2012 00:00:31 -0000     10   \n",
       "3       1.089166667     100  Sun, 08 Apr 2012 02:14:00 -0000     13   \n",
       "4                 0       0  Wed, 01 Jun 2011 15:25:39 -0000      6   \n",
       "\n",
       "                                       reward levels updates comments duration  \n",
       "0               $25,$50,$100,$250,$500,$1,000,$2,500      10        2       30  \n",
       "1                                  $1,$5,$10,$25,$50       6        0    47.18  \n",
       "2  $1,$10,$25,$40,$50,$100,$250,$1,000,$1,337,$9,001       1        0       28  \n",
       "3  $1,$10,$25,$30,$50,$75,$85,$100,$110,$250,$500...       4        0    32.22  \n",
       "4                         $10,$25,$50,$100,$150,$250       2        0       30  "
      ]
     },
     "execution_count": 4,
     "metadata": {},
     "output_type": "execute_result"
    }
   ],
   "source": [
    "#FileName: KickScrape_KLarson10292020.ipynb\n",
    "#Author: Kyle Larson\n",
    "#Purpose: To analyze the file \n",
    "#DSI_kickstarterscrape_dataset.csv\n",
    "import pandas as pd\n",
    "import csv\n",
    "kickscrape_path =\"DSI_kickstarterscrape_dataset.csv\"\n",
    "#I had originally attempted to read using read_csv but ran into issues with encoding utf8 and CP1252\n",
    "#---TO DO: Go back and try using something like the below \n",
    "#kickdataframe = pd.read_csv(kickscrape_path, sep=\",\", encoding=\"latin-1\")\n",
    "#-----\n",
    "# NOTE: Parsing this file requires approximately 10 minutes\n",
    "i=0\n",
    "with open(kickscrape_path, encoding='latin-1', mode='r') as csv_file:#encoding=\"utf8\"\n",
    "    csv_reader = csv.reader(csv_file, delimiter=',')\n",
    "    for row in csv_reader:\n",
    "        if(i==0):\n",
    "            cols = row\n",
    "            df = pd.DataFrame(columns=[cols])\n",
    "        else:\n",
    "            df_length = len(df)\n",
    "            df.loc[df_length] = row\n",
    "        #if(i==500):\n",
    "        #    break\n",
    "        i=i+1\n",
    "df.head()\n",
    "          "
   ]
  },
  {
   "cell_type": "code",
   "execution_count": 90,
   "metadata": {},
   "outputs": [],
   "source": [
    "#Note all data above are lists of strings so the usual niceness of dataframes will be less easy\n",
    "#See TO DO above for tip to improve analyzability"
   ]
  },
  {
   "cell_type": "code",
   "execution_count": 23,
   "metadata": {},
   "outputs": [
    {
     "data": {
      "text/html": [
       "<div>\n",
       "<style scoped>\n",
       "    .dataframe tbody tr th:only-of-type {\n",
       "        vertical-align: middle;\n",
       "    }\n",
       "\n",
       "    .dataframe tbody tr th {\n",
       "        vertical-align: top;\n",
       "    }\n",
       "\n",
       "    .dataframe thead tr th {\n",
       "        text-align: left;\n",
       "    }\n",
       "</style>\n",
       "<table border=\"1\" class=\"dataframe\">\n",
       "  <thead>\n",
       "    <tr>\n",
       "      <th></th>\n",
       "      <th>project id</th>\n",
       "      <th>name</th>\n",
       "      <th>url</th>\n",
       "      <th>category</th>\n",
       "      <th>subcategory</th>\n",
       "      <th>location</th>\n",
       "      <th>status</th>\n",
       "      <th>goal</th>\n",
       "      <th>pledged</th>\n",
       "      <th>funded percentage</th>\n",
       "      <th>backers</th>\n",
       "      <th>funded date</th>\n",
       "      <th>levels</th>\n",
       "      <th>reward levels</th>\n",
       "      <th>updates</th>\n",
       "      <th>comments</th>\n",
       "      <th>duration</th>\n",
       "    </tr>\n",
       "  </thead>\n",
       "  <tbody>\n",
       "    <tr>\n",
       "      <th>count</th>\n",
       "      <td>45957</td>\n",
       "      <td>45957</td>\n",
       "      <td>45957</td>\n",
       "      <td>45957</td>\n",
       "      <td>45957</td>\n",
       "      <td>45957</td>\n",
       "      <td>45957</td>\n",
       "      <td>45957</td>\n",
       "      <td>45957</td>\n",
       "      <td>45957</td>\n",
       "      <td>45957</td>\n",
       "      <td>45957</td>\n",
       "      <td>45957</td>\n",
       "      <td>45957</td>\n",
       "      <td>45957</td>\n",
       "      <td>45957</td>\n",
       "      <td>45957</td>\n",
       "    </tr>\n",
       "    <tr>\n",
       "      <th>unique</th>\n",
       "      <td>45815</td>\n",
       "      <td>45754</td>\n",
       "      <td>45814</td>\n",
       "      <td>14</td>\n",
       "      <td>51</td>\n",
       "      <td>4850</td>\n",
       "      <td>5</td>\n",
       "      <td>1837</td>\n",
       "      <td>10951</td>\n",
       "      <td>21977</td>\n",
       "      <td>974</td>\n",
       "      <td>41068</td>\n",
       "      <td>64</td>\n",
       "      <td>28379</td>\n",
       "      <td>84</td>\n",
       "      <td>315</td>\n",
       "      <td>5954</td>\n",
       "    </tr>\n",
       "    <tr>\n",
       "      <th>top</th>\n",
       "      <td>2141525347</td>\n",
       "      <td>Black Storm</td>\n",
       "      <td>http://www.kickstarter.com/projects/13588168/p...</td>\n",
       "      <td>Film &amp;amp; Video</td>\n",
       "      <td>Documentary</td>\n",
       "      <td>Los Angeles, CA</td>\n",
       "      <td>successful</td>\n",
       "      <td>5000</td>\n",
       "      <td>0</td>\n",
       "      <td>0</td>\n",
       "      <td>0</td>\n",
       "      <td>Sun, 01 Jan 2012 04:59:00 -0000</td>\n",
       "      <td>7</td>\n",
       "      <td>$10,$25,$50,$100,$250,$500,$1,000</td>\n",
       "      <td>0</td>\n",
       "      <td>0</td>\n",
       "      <td>30</td>\n",
       "    </tr>\n",
       "    <tr>\n",
       "      <th>freq</th>\n",
       "      <td>2</td>\n",
       "      <td>3</td>\n",
       "      <td>2</td>\n",
       "      <td>13053</td>\n",
       "      <td>4012</td>\n",
       "      <td>3927</td>\n",
       "      <td>22969</td>\n",
       "      <td>4217</td>\n",
       "      <td>3944</td>\n",
       "      <td>3944</td>\n",
       "      <td>3945</td>\n",
       "      <td>44</td>\n",
       "      <td>5847</td>\n",
       "      <td>369</td>\n",
       "      <td>16040</td>\n",
       "      <td>23469</td>\n",
       "      <td>11113</td>\n",
       "    </tr>\n",
       "  </tbody>\n",
       "</table>\n",
       "</div>"
      ],
      "text/plain": [
       "        project id         name  \\\n",
       "count        45957        45957   \n",
       "unique       45815        45754   \n",
       "top     2141525347  Black Storm   \n",
       "freq             2            3   \n",
       "\n",
       "                                                      url          category  \\\n",
       "count                                               45957             45957   \n",
       "unique                                              45814                14   \n",
       "top     http://www.kickstarter.com/projects/13588168/p...  Film &amp; Video   \n",
       "freq                                                    2             13053   \n",
       "\n",
       "        subcategory         location      status   goal pledged  \\\n",
       "count         45957            45957       45957  45957   45957   \n",
       "unique           51             4850           5   1837   10951   \n",
       "top     Documentary  Los Angeles, CA  successful   5000       0   \n",
       "freq           4012             3927       22969   4217    3944   \n",
       "\n",
       "       funded percentage backers                      funded date levels  \\\n",
       "count              45957   45957                            45957  45957   \n",
       "unique             21977     974                            41068     64   \n",
       "top                    0       0  Sun, 01 Jan 2012 04:59:00 -0000      7   \n",
       "freq                3944    3945                               44   5847   \n",
       "\n",
       "                            reward levels updates comments duration  \n",
       "count                               45957   45957    45957    45957  \n",
       "unique                              28379      84      315     5954  \n",
       "top     $10,$25,$50,$100,$250,$500,$1,000       0        0       30  \n",
       "freq                                  369   16040    23469    11113  "
      ]
     },
     "execution_count": 23,
     "metadata": {},
     "output_type": "execute_result"
    }
   ],
   "source": [
    "df.describe()"
   ]
  },
  {
   "cell_type": "code",
   "execution_count": 25,
   "metadata": {},
   "outputs": [
    {
     "name": "stdout",
     "output_type": "stream",
     "text": [
      "\n",
      "\n",
      "\n",
      "\n",
      "\n",
      "\n",
      "\n",
      "\n",
      "\n",
      "\n",
      "\n",
      "\n",
      "228735822.0\n"
     ]
    }
   ],
   "source": [
    "# Note this would be much easier if read_csv was used\n",
    "import re\n",
    "X = df[['pledged']]\n",
    "sigma =0\n",
    "arbetrary = 20#an arbetrary small number compared to 45957 to account for gap in data\n",
    "i=0\n",
    "while(i< len(X)-arbetrary):\n",
    "    if not re.search('\\d+', X.iloc[i][0]):\n",
    "        print(X.iloc[i][0])\n",
    "    else:\n",
    "        sigma = sigma + float(X.iloc[i][0])\n",
    "    i=i+1\n",
    "print(sigma)"
   ]
  },
  {
   "cell_type": "code",
   "execution_count": 128,
   "metadata": {},
   "outputs": [
    {
     "name": "stdout",
     "output_type": "stream",
     "text": [
      "4979.337396869626\n"
     ]
    }
   ],
   "source": [
    "# population mean\n",
    "print(sigma/(len(X)-arbetrary))"
   ]
  },
  {
   "cell_type": "code",
   "execution_count": 26,
   "metadata": {},
   "outputs": [
    {
     "data": {
      "text/html": [
       "<div>\n",
       "<style scoped>\n",
       "    .dataframe tbody tr th:only-of-type {\n",
       "        vertical-align: middle;\n",
       "    }\n",
       "\n",
       "    .dataframe tbody tr th {\n",
       "        vertical-align: top;\n",
       "    }\n",
       "\n",
       "    .dataframe thead th {\n",
       "        text-align: right;\n",
       "    }\n",
       "</style>\n",
       "<table border=\"1\" class=\"dataframe\">\n",
       "  <thead>\n",
       "    <tr style=\"text-align: right;\">\n",
       "      <th></th>\n",
       "      <th>backers</th>\n",
       "    </tr>\n",
       "  </thead>\n",
       "  <tbody>\n",
       "    <tr>\n",
       "      <th>0</th>\n",
       "      <td>66.0</td>\n",
       "    </tr>\n",
       "    <tr>\n",
       "      <th>1</th>\n",
       "      <td>2.0</td>\n",
       "    </tr>\n",
       "    <tr>\n",
       "      <th>2</th>\n",
       "      <td>3.0</td>\n",
       "    </tr>\n",
       "    <tr>\n",
       "      <th>3</th>\n",
       "      <td>100.0</td>\n",
       "    </tr>\n",
       "    <tr>\n",
       "      <th>4</th>\n",
       "      <td>0.0</td>\n",
       "    </tr>\n",
       "  </tbody>\n",
       "</table>\n",
       "</div>"
      ],
      "text/plain": [
       "   backers\n",
       "0     66.0\n",
       "1      2.0\n",
       "2      3.0\n",
       "3    100.0\n",
       "4      0.0"
      ]
     },
     "execution_count": 26,
     "metadata": {},
     "output_type": "execute_result"
    }
   ],
   "source": [
    "Y = df[['backers']]\n",
    "y = pd.DataFrame(columns=['backers'])\n",
    "i=0\n",
    "Y_length = len(Y) - 20\n",
    "while i < Y_length:\n",
    "    if not re.search('\\d+', Y.iloc[i][0]):\n",
    "        print(Y.iloc[i][0])\n",
    "    else:\n",
    "        df_length = len(y)\n",
    "        y.loc[df_length] =  float(Y.iloc[i][0])\n",
    "    i=i+1\n",
    "y.head()"
   ]
  },
  {
   "cell_type": "code",
   "execution_count": 135,
   "metadata": {},
   "outputs": [
    {
     "data": {
      "text/plain": [
       "<matplotlib.axes._subplots.AxesSubplot at 0x207ea4d0b88>"
      ]
     },
     "execution_count": 135,
     "metadata": {},
     "output_type": "execute_result"
    },
    {
     "data": {
      "image/png": "[encoded data removed]",
      "text/plain": [
       "<Figure size 432x288 with 1 Axes>"
      ]
     },
     "metadata": {
      "needs_background": "light"
     },
     "output_type": "display_data"
    }
   ],
   "source": [
    "y.plot(kind='hist')"
   ]
  },
  {
   "cell_type": "code",
   "execution_count": 27,
   "metadata": {},
   "outputs": [
    {
     "data": {
      "text/html": [
       "<div>\n",
       "<style scoped>\n",
       "    .dataframe tbody tr th:only-of-type {\n",
       "        vertical-align: middle;\n",
       "    }\n",
       "\n",
       "    .dataframe tbody tr th {\n",
       "        vertical-align: top;\n",
       "    }\n",
       "\n",
       "    .dataframe thead th {\n",
       "        text-align: right;\n",
       "    }\n",
       "</style>\n",
       "<table border=\"1\" class=\"dataframe\">\n",
       "  <thead>\n",
       "    <tr style=\"text-align: right;\">\n",
       "      <th></th>\n",
       "      <th>duration</th>\n",
       "    </tr>\n",
       "  </thead>\n",
       "  <tbody>\n",
       "    <tr>\n",
       "      <th>0</th>\n",
       "      <td>30.00</td>\n",
       "    </tr>\n",
       "    <tr>\n",
       "      <th>1</th>\n",
       "      <td>47.18</td>\n",
       "    </tr>\n",
       "    <tr>\n",
       "      <th>2</th>\n",
       "      <td>28.00</td>\n",
       "    </tr>\n",
       "    <tr>\n",
       "      <th>3</th>\n",
       "      <td>32.22</td>\n",
       "    </tr>\n",
       "    <tr>\n",
       "      <th>4</th>\n",
       "      <td>30.00</td>\n",
       "    </tr>\n",
       "  </tbody>\n",
       "</table>\n",
       "</div>"
      ],
      "text/plain": [
       "   duration\n",
       "0     30.00\n",
       "1     47.18\n",
       "2     28.00\n",
       "3     32.22\n",
       "4     30.00"
      ]
     },
     "execution_count": 27,
     "metadata": {},
     "output_type": "execute_result"
    }
   ],
   "source": [
    "#the goal here is to see if duration is normally distributed\n",
    "import re\n",
    "Z = df[['duration']]\n",
    "z = pd.DataFrame(columns=['duration'])\n",
    "i=0\n",
    "Z_length = len(Z) -20\n",
    "while i < Z_length:\n",
    "    if not re.search('\\d+', Z.iloc[i][0]):\n",
    "        print(Z.iloc[i][0])\n",
    "    else:\n",
    "        df_length = len(z)\n",
    "        z.loc[df_length] =  float(Z.iloc[i][0])\n",
    "    i=i+1\n",
    "z.head()"
   ]
  },
  {
   "cell_type": "code",
   "execution_count": 14,
   "metadata": {},
   "outputs": [
    {
     "data": {
      "text/plain": [
       "[<matplotlib.lines.Line2D at 0x28ee8933588>]"
      ]
     },
     "execution_count": 14,
     "metadata": {},
     "output_type": "execute_result"
    },
    {
     "data": {
      "image/png": "[encoded data removed]",
      "text/plain": [
       "<Figure size 432x288 with 1 Axes>"
      ]
     },
     "metadata": {
      "needs_background": "light"
     },
     "output_type": "display_data"
    }
   ],
   "source": [
    "z.plot(kind='hist')\n",
    "#We alrady know this will not be normal because 30 days and 60 days are recommendations by Kickstarter\n",
    "#It is interresting to note that there is a significant spike at arround 90 days as well"
   ]
  },
  {
   "cell_type": "code",
   "execution_count": 37,
   "metadata": {},
   "outputs": [
    {
     "data": {
      "text/plain": [
       "1"
      ]
     },
     "execution_count": 37,
     "metadata": {},
     "output_type": "execute_result"
    }
   ],
   "source": [
    "#Recommended supplemental data to collect "
   ]
  },
  {
   "cell_type": "code",
   "execution_count": 40,
   "metadata": {},
   "outputs": [
    {
     "name": "stdout",
     "output_type": "stream",
     "text": [
      "   duration\n",
      "0     30.00\n",
      "1     32.22\n",
      "2     21.43\n",
      "3     30.00\n",
      "4     67.53\n",
      "   duration\n",
      "0     47.18\n",
      "1     30.00\n",
      "2     30.00\n",
      "3     40.04\n",
      "4     60.34\n"
     ]
    }
   ],
   "source": [
    "#best length of time\n",
    "S = df[['status']]\n",
    "s = pd.DataFrame(columns=['duration'])\n",
    "f = pd.DataFrame(columns=['duration'])\n",
    "i = 0\n",
    "S_length = len(S)\n",
    "while i<S_length:\n",
    "    if S.iloc[i][0] == 'successful':\n",
    "        #df_length = len(s)\n",
    "        #s.iloc[df_length] = float(Z.iloc[i][0])\n",
    "        s = s.append({'duration':float(Z.iloc[i][0])}, ignore_index=True)\n",
    "    if S.iloc[i][0] == 'failed':\n",
    "        #df_length = len(f)\n",
    "        #f.iloc[df_length] = float(Z.iloc[i][0])\n",
    "        f = f.append({'duration':float(Z.iloc[i][0])}, ignore_index=True)\n",
    "    i=i+1\n",
    "print(s.head())\n",
    "print(f.head())"
   ]
  },
  {
   "cell_type": "code",
   "execution_count": 46,
   "metadata": {},
   "outputs": [
    {
     "data": {
      "text/plain": [
       "<matplotlib.axes._subplots.AxesSubplot at 0x28f32e96588>"
      ]
     },
     "execution_count": 46,
     "metadata": {},
     "output_type": "execute_result"
    },
    {
     "data": {
      "image/png": "[encoded data removed]",
      "text/plain": [
       "<Figure size 432x288 with 1 Axes>"
      ]
     },
     "metadata": {
      "needs_background": "light"
     },
     "output_type": "display_data"
    }
   ],
   "source": [
    "s.plot(kind='hist', grid = True)"
   ]
  },
  {
   "cell_type": "code",
   "execution_count": 47,
   "metadata": {},
   "outputs": [
    {
     "data": {
      "text/plain": [
       "<matplotlib.axes._subplots.AxesSubplot at 0x28f3332cf08>"
      ]
     },
     "execution_count": 47,
     "metadata": {},
     "output_type": "execute_result"
    },
    {
     "data": {
      "image/png": "[encoded data removed]",
      "text/plain": [
       "<Figure size 432x288 with 1 Axes>"
      ]
     },
     "metadata": {
      "needs_background": "light"
     },
     "output_type": "display_data"
    }
   ],
   "source": [
    "f.plot(kind='hist', grid = True)"
   ]
  },
  {
   "cell_type": "code",
   "execution_count": 67,
   "metadata": {},
   "outputs": [
    {
     "name": "stdout",
     "output_type": "stream",
     "text": [
      "calculating statistic factors...\n",
      "calculating statistic factors...\n",
      "Tstatistic:duration   -36.155673\n",
      "dtype: float64\n",
      "pooled degrees of freedom:41963\n",
      "p-value < 0.000001. The test for rejection of Ho (equal means) is significant at alpha = 0.05\n",
      "mean of successful projects (days): duration    37.960475\n",
      "dtype: float64\n"
     ]
    }
   ],
   "source": [
    "#Pooled t-test for comparison of means\n",
    "#It will be assumed that the distributions have been pulled from normally distributed populations\n",
    "#This may not be an appropriate assumption due to the nearly identical spikes in samples at 30&60days\n",
    "#suggesting bimodal distribution, but it is still worth doing because with smaller sample size this \n",
    "#the sample could have passed for normally distributed data\n",
    "#It will be assumed that whether one project is a success is independent from whether the other is a success\n",
    "#This may not be appropriate because investors sacrifice opportunity with each project they back \n",
    "#additionally the number of projects they view and whether their sampling is random also affect \n",
    "#whether their selection is independent, but for simplicity sake and to honor the sheer sample size\n",
    "#we will perform a pooled two sample comparison of means\n",
    "#to calculate variances S_X_success and S_X_failed\n",
    "#S_X_s = 0\n",
    "#NOTE: dtest = pd.DataFrame({'test':[1, 2, 3, 4, 5, 6]}, columns=['test'])\n",
    "#print(dtest.sum()) #21\n",
    "#i = 0\n",
    "#X_s = s.mean()\n",
    "#s_length = len(s)\n",
    "#while(i<s_length):\n",
    "#    S_X_s = S_X_s + (s.iloc[i][0] - X_s)**2\n",
    "#    i=i+1\n",
    "#S_X_s = S_X_s/(s_length-1)\n",
    "#print(S_X_s)  #var is equivalent\n",
    "#print(s.var())\n",
    "S_p = ( ( (len(s)-1)*s.var()+ (len(f)-1)*f.var() )/(len(S)+len(f)-2) )**0.5#sqrt\n",
    "print('calculating statistic factors...')\n",
    "scaled_root_parallel = (S_p*(((1/len(s))+(1/len(f)))**0.5))\n",
    "print('calculating statistic factors...')\n",
    "t_stat = ( s.mean() - f.mean() )/scaled_root_parallel\n",
    "print('Tstatistic:'+str(t_stat))\n",
    "print('pooled degrees of freedom:'+str(len(s)+len(f)-2)) #df for pooled \n",
    "print('p-value < 0.000001. The test for rejection of Ho (equal means) is significant at alpha = 0.05')\n",
    "print('mean of successful projects (days): '+str(s.mean()))\n",
    "#conclusion there is a highly significant correlation between success and projects being shorter than the average success\n",
    "#note: this correlation does not imply causation, however this is consistent with intuitive strategy\n",
    "#of providing the right backers with an ideal time frame (near a months time)\n",
    "#balances the psychology of time pressure to act and the psychology of allowing for exposure and weighing of options\n",
    "#however further study should control for independence, normality and other factors like campaign complexity\n",
    "#projects that later turned out to require more time also may have been less likely to succeed in the first place\n",
    "#to determine the gradient (avg success probability gained by limiting duration per number of days limited)"
   ]
  },
  {
   "cell_type": "code",
   "execution_count": 69,
   "metadata": {},
   "outputs": [
    {
     "name": "stdout",
     "output_type": "stream",
     "text": [
      "  pledged  duration\n",
      "0     NaN   11545.0\n",
      "1     NaN    6535.0\n",
      "2     NaN    3582.0\n",
      "3     NaN    2180.0\n",
      "4     NaN    1125.0\n",
      "  pledged  duration\n",
      "0     NaN      20.0\n",
      "1     NaN       0.0\n",
      "2     NaN     280.0\n",
      "3     NaN      75.0\n",
      "4     NaN     765.0\n"
     ]
    }
   ],
   "source": [
    "#ideal pledge goal\n",
    "#S = df[['status']]\n",
    "P = df[['pledged']]\n",
    "e = pd.DataFrame(columns=['pledged'])\n",
    "d = pd.DataFrame(columns=['pledged'])\n",
    "i = 0\n",
    "S_length = len(S)\n",
    "while i<S_length:\n",
    "    if S.iloc[i][0] == 'successful':\n",
    "        #df_length = len(s)\n",
    "        #s.iloc[df_length] = float(Z.iloc[i][0])\n",
    "        e = e.append({'duration':float(P.iloc[i][0])}, ignore_index=True)\n",
    "    if S.iloc[i][0] == 'failed':\n",
    "        #df_length = len(f)\n",
    "        #f.iloc[df_length] = float(Z.iloc[i][0])\n",
    "        d = d.append({'duration':float(P.iloc[i][0])}, ignore_index=True)\n",
    "    i=i+1\n",
    "print(e.head())\n",
    "print(d.head())"
   ]
  },
  {
   "cell_type": "code",
   "execution_count": null,
   "metadata": {},
   "outputs": [],
   "source": [
    "#ideal pledge goal\n"
   ]
  },
  {
   "cell_type": "code",
   "execution_count": null,
   "metadata": {},
   "outputs": [],
   "source": [
    "#Type of projects most successful"
   ]
  },
  {
   "cell_type": "code",
   "execution_count": null,
   "metadata": {},
   "outputs": [],
   "source": [
    "#ideal launch timing"
   ]
  }
 ],
 "metadata": {
  "kernelspec": {
   "display_name": "Python 3",
   "language": "python",
   "name": "python3"
  },
  "language_info": {
   "codemirror_mode": {
    "name": "ipython",
    "version": 3
   },
   "file_extension": ".py",
   "mimetype": "text/x-python",
   "name": "python",
   "nbconvert_exporter": "python",
   "pygments_lexer": "ipython3",
   "version": "3.7.6"
  }
 },
 "nbformat": 4,
 "nbformat_minor": 4
}
