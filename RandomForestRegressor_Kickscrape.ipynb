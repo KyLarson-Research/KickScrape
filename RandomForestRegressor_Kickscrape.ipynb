{
 "cells": [
  {
   "cell_type": "code",
   "execution_count": 1,
   "metadata": {},
   "outputs": [],
   "source": [
    "#Filename: RandomForestRegressor_KickScrape.ipynb\n",
    "#Author: Kyle C. Larson 11/21/2020\n",
    "#Purpose: to apply Random Forest Model to KickScrape\n",
    "import pandas as pd\n",
    "import csv\n",
    "kickscrape_path =\"DSI_kickstarterscrape_dataset.csv\"\n",
    "kickdataframe = pd.read_csv(kickscrape_path, sep=\",\", encoding=\"latin-1\")"
   ]
  },
  {
   "cell_type": "code",
   "execution_count": 7,
   "metadata": {},
   "outputs": [],
   "source": [
    "y = kickdataframe[['funded percentage']]\n",
    "#X_full.drop(['SalePrice'], axis=1, inplace=True) \n",
    "#from Kaglle Intermedite Machine Learning Exercize: missing values\n",
    "kickdataframe.drop(['funded percentage'], axis=1, inplace=True)"
   ]
  },
  {
   "cell_type": "code",
   "execution_count": 8,
   "metadata": {},
   "outputs": [],
   "source": [
    "from sklearn.model_selection import train_test_split\n",
    "X_train, X_valid, y_train, y_valid = train_test_split(kickdataframe, y, train_size=0.8, test_size=0.2, random_state = 0)"
   ]
  },
  {
   "cell_type": "code",
   "execution_count": 9,
   "metadata": {},
   "outputs": [
    {
     "data": {
      "text/html": [
       "<div>\n",
       "<style scoped>\n",
       "    .dataframe tbody tr th:only-of-type {\n",
       "        vertical-align: middle;\n",
       "    }\n",
       "\n",
       "    .dataframe tbody tr th {\n",
       "        vertical-align: top;\n",
       "    }\n",
       "\n",
       "    .dataframe thead th {\n",
       "        text-align: right;\n",
       "    }\n",
       "</style>\n",
       "<table border=\"1\" class=\"dataframe\">\n",
       "  <thead>\n",
       "    <tr style=\"text-align: right;\">\n",
       "      <th></th>\n",
       "      <th>project id</th>\n",
       "      <th>name</th>\n",
       "      <th>url</th>\n",
       "      <th>category</th>\n",
       "      <th>subcategory</th>\n",
       "      <th>location</th>\n",
       "      <th>status</th>\n",
       "      <th>goal</th>\n",
       "      <th>pledged</th>\n",
       "      <th>backers</th>\n",
       "      <th>funded date</th>\n",
       "      <th>levels</th>\n",
       "      <th>reward levels</th>\n",
       "      <th>updates</th>\n",
       "      <th>comments</th>\n",
       "      <th>duration</th>\n",
       "    </tr>\n",
       "  </thead>\n",
       "  <tbody>\n",
       "    <tr>\n",
       "      <th>18677</th>\n",
       "      <td>879990240</td>\n",
       "      <td>Adam Underground: A Collaborative Film between...</td>\n",
       "      <td>http://www.kickstarter.com/projects/2108974208...</td>\n",
       "      <td>Film &amp;amp; Video</td>\n",
       "      <td>Animation</td>\n",
       "      <td>Newton, MA</td>\n",
       "      <td>successful</td>\n",
       "      <td>2000.0</td>\n",
       "      <td>2310.0</td>\n",
       "      <td>43</td>\n",
       "      <td>Tue, 27 Apr 2010 03:50:00 -0000</td>\n",
       "      <td>8</td>\n",
       "      <td>$5,$10,$15,$25,$50,$100,$250,$500</td>\n",
       "      <td>0</td>\n",
       "      <td>0</td>\n",
       "      <td>12.41</td>\n",
       "    </tr>\n",
       "    <tr>\n",
       "      <th>3714</th>\n",
       "      <td>175903174</td>\n",
       "      <td>Help GirlandPiano Build THE WAYWARD ARK!</td>\n",
       "      <td>http://www.kickstarter.com/projects/girlandpia...</td>\n",
       "      <td>Music</td>\n",
       "      <td>Rock</td>\n",
       "      <td>Keene, NH</td>\n",
       "      <td>successful</td>\n",
       "      <td>1500.0</td>\n",
       "      <td>1660.0</td>\n",
       "      <td>40</td>\n",
       "      <td>Sun, 18 Dec 2011 04:55:00 -0000</td>\n",
       "      <td>17</td>\n",
       "      <td>$5,$10,$15,$25,$30,$35,$40,$50,$60,$75,$100,$1...</td>\n",
       "      <td>11</td>\n",
       "      <td>5</td>\n",
       "      <td>30.96</td>\n",
       "    </tr>\n",
       "    <tr>\n",
       "      <th>30213</th>\n",
       "      <td>1421180585</td>\n",
       "      <td>artist that draws with his mouth seeks assistance</td>\n",
       "      <td>http://www.kickstarter.com/projects/883623056/...</td>\n",
       "      <td>Art</td>\n",
       "      <td>Illustration</td>\n",
       "      <td>NaN</td>\n",
       "      <td>failed</td>\n",
       "      <td>1500.0</td>\n",
       "      <td>0.0</td>\n",
       "      <td>0</td>\n",
       "      <td>Sun, 15 Aug 2010 19:43:00 -0000</td>\n",
       "      <td>6</td>\n",
       "      <td>$5,$10,$50,$100,$500,$1,000</td>\n",
       "      <td>0</td>\n",
       "      <td>0</td>\n",
       "      <td>38.96</td>\n",
       "    </tr>\n",
       "    <tr>\n",
       "      <th>19738</th>\n",
       "      <td>929308462</td>\n",
       "      <td>Put Compelling Debut Novel, &amp;quot;A Burning Yo...</td>\n",
       "      <td>http://www.kickstarter.com/projects/1890126167...</td>\n",
       "      <td>Publishing</td>\n",
       "      <td>Fiction</td>\n",
       "      <td>Orlando, FL</td>\n",
       "      <td>successful</td>\n",
       "      <td>3575.0</td>\n",
       "      <td>3681.0</td>\n",
       "      <td>62</td>\n",
       "      <td>Tue, 14 Jun 2011 21:56:06 -0000</td>\n",
       "      <td>14</td>\n",
       "      <td>$1,$10,$20,$35,$49,$50,$74,$75,$99,$100,$250,$...</td>\n",
       "      <td>10</td>\n",
       "      <td>16</td>\n",
       "      <td>34.00</td>\n",
       "    </tr>\n",
       "    <tr>\n",
       "      <th>12319</th>\n",
       "      <td>583746001</td>\n",
       "      <td>Consequenes of our Choices</td>\n",
       "      <td>http://www.kickstarter.com/projects/818072494/...</td>\n",
       "      <td>Film &amp;amp; Video</td>\n",
       "      <td>Film &amp;amp; Video</td>\n",
       "      <td>Lynn, MA</td>\n",
       "      <td>successful</td>\n",
       "      <td>500.0</td>\n",
       "      <td>625.0</td>\n",
       "      <td>15</td>\n",
       "      <td>Mon, 23 Apr 2012 13:55:50 -0000</td>\n",
       "      <td>6</td>\n",
       "      <td>$5,$10,$25,$50,$75,$100</td>\n",
       "      <td>0</td>\n",
       "      <td>0</td>\n",
       "      <td>59.96</td>\n",
       "    </tr>\n",
       "  </tbody>\n",
       "</table>\n",
       "</div>"
      ],
      "text/plain": [
       "       project id                                               name  \\\n",
       "18677   879990240  Adam Underground: A Collaborative Film between...   \n",
       "3714    175903174           Help GirlandPiano Build THE WAYWARD ARK!   \n",
       "30213  1421180585  artist that draws with his mouth seeks assistance   \n",
       "19738   929308462  Put Compelling Debut Novel, &quot;A Burning Yo...   \n",
       "12319   583746001                         Consequenes of our Choices   \n",
       "\n",
       "                                                     url          category  \\\n",
       "18677  http://www.kickstarter.com/projects/2108974208...  Film &amp; Video   \n",
       "3714   http://www.kickstarter.com/projects/girlandpia...             Music   \n",
       "30213  http://www.kickstarter.com/projects/883623056/...               Art   \n",
       "19738  http://www.kickstarter.com/projects/1890126167...        Publishing   \n",
       "12319  http://www.kickstarter.com/projects/818072494/...  Film &amp; Video   \n",
       "\n",
       "            subcategory     location      status    goal  pledged  backers  \\\n",
       "18677         Animation   Newton, MA  successful  2000.0   2310.0       43   \n",
       "3714               Rock    Keene, NH  successful  1500.0   1660.0       40   \n",
       "30213      Illustration          NaN      failed  1500.0      0.0        0   \n",
       "19738           Fiction  Orlando, FL  successful  3575.0   3681.0       62   \n",
       "12319  Film &amp; Video     Lynn, MA  successful   500.0    625.0       15   \n",
       "\n",
       "                           funded date  levels  \\\n",
       "18677  Tue, 27 Apr 2010 03:50:00 -0000       8   \n",
       "3714   Sun, 18 Dec 2011 04:55:00 -0000      17   \n",
       "30213  Sun, 15 Aug 2010 19:43:00 -0000       6   \n",
       "19738  Tue, 14 Jun 2011 21:56:06 -0000      14   \n",
       "12319  Mon, 23 Apr 2012 13:55:50 -0000       6   \n",
       "\n",
       "                                           reward levels  updates  comments  \\\n",
       "18677                  $5,$10,$15,$25,$50,$100,$250,$500        0         0   \n",
       "3714   $5,$10,$15,$25,$30,$35,$40,$50,$60,$75,$100,$1...       11         5   \n",
       "30213                        $5,$10,$50,$100,$500,$1,000        0         0   \n",
       "19738  $1,$10,$20,$35,$49,$50,$74,$75,$99,$100,$250,$...       10        16   \n",
       "12319                            $5,$10,$25,$50,$75,$100        0         0   \n",
       "\n",
       "       duration  \n",
       "18677     12.41  \n",
       "3714      30.96  \n",
       "30213     38.96  \n",
       "19738     34.00  \n",
       "12319     59.96  "
      ]
     },
     "execution_count": 9,
     "metadata": {},
     "output_type": "execute_result"
    }
   ],
   "source": [
    "X_train.head()"
   ]
  },
  {
   "cell_type": "code",
   "execution_count": 11,
   "metadata": {},
   "outputs": [
    {
     "data": {
      "text/html": [
       "<div>\n",
       "<style scoped>\n",
       "    .dataframe tbody tr th:only-of-type {\n",
       "        vertical-align: middle;\n",
       "    }\n",
       "\n",
       "    .dataframe tbody tr th {\n",
       "        vertical-align: top;\n",
       "    }\n",
       "\n",
       "    .dataframe thead th {\n",
       "        text-align: right;\n",
       "    }\n",
       "</style>\n",
       "<table border=\"1\" class=\"dataframe\">\n",
       "  <thead>\n",
       "    <tr style=\"text-align: right;\">\n",
       "      <th></th>\n",
       "      <th>funded percentage</th>\n",
       "    </tr>\n",
       "  </thead>\n",
       "  <tbody>\n",
       "    <tr>\n",
       "      <th>18677</th>\n",
       "      <td>1.155000</td>\n",
       "    </tr>\n",
       "    <tr>\n",
       "      <th>3714</th>\n",
       "      <td>1.106667</td>\n",
       "    </tr>\n",
       "    <tr>\n",
       "      <th>30213</th>\n",
       "      <td>0.000000</td>\n",
       "    </tr>\n",
       "    <tr>\n",
       "      <th>19738</th>\n",
       "      <td>1.029530</td>\n",
       "    </tr>\n",
       "    <tr>\n",
       "      <th>12319</th>\n",
       "      <td>1.250000</td>\n",
       "    </tr>\n",
       "  </tbody>\n",
       "</table>\n",
       "</div>"
      ],
      "text/plain": [
       "       funded percentage\n",
       "18677           1.155000\n",
       "3714            1.106667\n",
       "30213           0.000000\n",
       "19738           1.029530\n",
       "12319           1.250000"
      ]
     },
     "execution_count": 11,
     "metadata": {},
     "output_type": "execute_result"
    }
   ],
   "source": [
    "y_train.head()"
   ]
  },
  {
   "cell_type": "code",
   "execution_count": 12,
   "metadata": {},
   "outputs": [
    {
     "name": "stdout",
     "output_type": "stream",
     "text": [
      "(36765, 16)\n",
      "location         1089\n",
      "pledged            11\n",
      "reward levels      49\n",
      "dtype: int64\n"
     ]
    }
   ],
   "source": [
    "# Shape of training data (num_rows, num_columns)\n",
    "print(X_train.shape)\n",
    "\n",
    "# Number of missing values in each column of training data\n",
    "missing_val_count_by_column = (X_train.isnull().sum())\n",
    "print(missing_val_count_by_column[missing_val_count_by_column > 0])"
   ]
  },
  {
   "cell_type": "code",
   "execution_count": 16,
   "metadata": {},
   "outputs": [],
   "source": [
    "from sklearn.impute import SimpleImputer\n",
    "#we can impute if data are numeric only \n",
    "non_numeric = ['name', 'url', 'category', 'subcategory', 'location', 'status', 'funded date', 'reward levels']\n",
    "reduced_X_train = X_train.drop(non_numeric, axis=1)\n",
    "reduced_X_valid = X_valid.drop(non_numeric, axis=1)\n",
    "# Fill in the lines below: imputation\n",
    "# Your code here\n",
    "my_imputer = SimpleImputer()\n",
    "imputed_X_train = pd.DataFrame(my_imputer.fit_transform(reduced_X_train))\n",
    "imputed_X_valid = pd.DataFrame(my_imputer.transform(reduced_X_valid))\n",
    "\n",
    "# Fill in the lines below: imputation removed column names; put them back\n",
    "imputed_X_train.columns = reduced_X_train.columns\n",
    "imputed_X_valid.columns = reduced_X_valid.columns"
   ]
  },
  {
   "cell_type": "code",
   "execution_count": 18,
   "metadata": {},
   "outputs": [
    {
     "name": "stderr",
     "output_type": "stream",
     "text": [
      "C:\\Users\\admin\\anaconda3\\lib\\site-packages\\ipykernel_launcher.py:5: DataConversionWarning: A column-vector y was passed when a 1d array was expected. Please change the shape of y to (n_samples,), for example using ravel().\n",
      "  \"\"\"\n"
     ]
    },
    {
     "name": "stdout",
     "output_type": "stream",
     "text": [
      "MAE:0.9140868605851978\n"
     ]
    }
   ],
   "source": [
    "from sklearn.ensemble import RandomForestRegressor\n",
    "from sklearn.metrics import mean_absolute_error\n",
    "\n",
    "model = RandomForestRegressor(n_estimators=100, random_state=0)\n",
    "model.fit(imputed_X_train, y_train)\n",
    "preds = model.predict(imputed_X_valid)\n",
    "mae = mean_absolute_error(y_valid, preds)\n",
    "print('MAE:'+str(mae))"
   ]
  },
  {
   "cell_type": "code",
   "execution_count": null,
   "metadata": {},
   "outputs": [],
   "source": []
  }
 ],
 "metadata": {
  "kernelspec": {
   "display_name": "Python 3",
   "language": "python",
   "name": "python3"
  },
  "language_info": {
   "codemirror_mode": {
    "name": "ipython",
    "version": 3
   },
   "file_extension": ".py",
   "mimetype": "text/x-python",
   "name": "python",
   "nbconvert_exporter": "python",
   "pygments_lexer": "ipython3",
   "version": "3.7.6"
  }
 },
 "nbformat": 4,
 "nbformat_minor": 4
}
